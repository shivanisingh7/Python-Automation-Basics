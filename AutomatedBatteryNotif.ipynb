{
 "cells": [
  {
   "cell_type": "code",
   "execution_count": 1,
   "id": "a948c0a7-8e8f-4947-8770-6d067cba9334",
   "metadata": {},
   "outputs": [
    {
     "name": "stdout",
     "output_type": "stream",
     "text": [
      "Requirement already satisfied: psutil in c:\\users\\shiva\\anaconda3\\new folder (2)\\lib\\site-packages (5.9.0)\n",
      "Note: you may need to restart the kernel to use updated packages.\n"
     ]
    }
   ],
   "source": [
    "pip install psutil\n"
   ]
  },
  {
   "cell_type": "code",
   "execution_count": 2,
   "id": "95b198c6-a0d0-4714-92a7-881d3ed2446c",
   "metadata": {},
   "outputs": [
    {
     "name": "stdout",
     "output_type": "stream",
     "text": [
      "Collecting plyer\n",
      "  Downloading plyer-2.1.0-py2.py3-none-any.whl (142 kB)\n",
      "     ------------------------------------ 142.3/142.3 kB 767.6 kB/s eta 0:00:00\n",
      "Installing collected packages: plyer\n",
      "Successfully installed plyer-2.1.0\n",
      "Note: you may need to restart the kernel to use updated packages.\n"
     ]
    }
   ],
   "source": [
    "pip install plyer"
   ]
  },
  {
   "cell_type": "code",
   "execution_count": 3,
   "id": "a6ef6f29-4a72-4f73-aedc-eac8866bbf5b",
   "metadata": {},
   "outputs": [],
   "source": [
    "import psutil#retrieves info on running processes &system utilization\n",
    "from plyer import notification#python library for accessing hw/platform features\n",
    "import time"
   ]
  },
  {
   "cell_type": "code",
   "execution_count": 7,
   "id": "9490c9ef-418d-40b9-8826-8bf49379fb23",
   "metadata": {},
   "outputs": [
    {
     "name": "stdin",
     "output_type": "stream",
     "text": [
      "how often would you like to be notified:  1\n"
     ]
    },
    {
     "ename": "KeyboardInterrupt",
     "evalue": "",
     "output_type": "error",
     "traceback": [
      "\u001b[1;31m---------------------------------------------------------------------------\u001b[0m",
      "\u001b[1;31mKeyboardInterrupt\u001b[0m                         Traceback (most recent call last)",
      "Cell \u001b[1;32mIn[7], line 8\u001b[0m\n\u001b[0;32m      6\u001b[0m \u001b[38;5;66;03m#while loop to calculate the change between the said frequency of battery for notification\u001b[39;00m\n\u001b[0;32m      7\u001b[0m \u001b[38;5;28;01mwhile\u001b[39;00m(\u001b[38;5;28;01mTrue\u001b[39;00m):\n\u001b[1;32m----> 8\u001b[0m     battery \u001b[38;5;241m=\u001b[39m \u001b[43mpsutil\u001b[49m\u001b[38;5;241;43m.\u001b[39;49m\u001b[43msensors_battery\u001b[49m\u001b[43m(\u001b[49m\u001b[43m)\u001b[49m\n\u001b[0;32m      9\u001b[0m     curr_percent \u001b[38;5;241m=\u001b[39m battery\u001b[38;5;241m.\u001b[39mpercent\n\u001b[0;32m     10\u001b[0m     change \u001b[38;5;241m=\u001b[39m curr_percent \u001b[38;5;241m-\u001b[39m percent\n",
      "File \u001b[1;32m~\\anaconda3\\New folder (2)\\lib\\site-packages\\psutil\\__init__.py:2296\u001b[0m, in \u001b[0;36msensors_battery\u001b[1;34m()\u001b[0m\n\u001b[0;32m   2286\u001b[0m \u001b[38;5;28;01mdef\u001b[39;00m \u001b[38;5;21msensors_battery\u001b[39m():\n\u001b[0;32m   2287\u001b[0m     \u001b[38;5;124;03m\"\"\"Return battery information. If no battery is installed\u001b[39;00m\n\u001b[0;32m   2288\u001b[0m \u001b[38;5;124;03m    returns None.\u001b[39;00m\n\u001b[0;32m   2289\u001b[0m \n\u001b[1;32m   (...)\u001b[0m\n\u001b[0;32m   2294\u001b[0m \u001b[38;5;124;03m     - power_plugged: True if the AC power cable is connected.\u001b[39;00m\n\u001b[0;32m   2295\u001b[0m \u001b[38;5;124;03m    \"\"\"\u001b[39;00m\n\u001b[1;32m-> 2296\u001b[0m     \u001b[38;5;28;01mreturn\u001b[39;00m \u001b[43m_psplatform\u001b[49m\u001b[38;5;241;43m.\u001b[39;49m\u001b[43msensors_battery\u001b[49m\u001b[43m(\u001b[49m\u001b[43m)\u001b[49m\n",
      "File \u001b[1;32m~\\anaconda3\\New folder (2)\\lib\\site-packages\\psutil\\_pswindows.py:433\u001b[0m, in \u001b[0;36msensors_battery\u001b[1;34m()\u001b[0m\n\u001b[0;32m    430\u001b[0m \u001b[38;5;28;01melif\u001b[39;00m secsleft \u001b[38;5;241m==\u001b[39m \u001b[38;5;241m-\u001b[39m\u001b[38;5;241m1\u001b[39m:\n\u001b[0;32m    431\u001b[0m     secsleft \u001b[38;5;241m=\u001b[39m _common\u001b[38;5;241m.\u001b[39mPOWER_TIME_UNKNOWN\n\u001b[1;32m--> 433\u001b[0m \u001b[38;5;28;01mreturn\u001b[39;00m \u001b[43m_common\u001b[49m\u001b[38;5;241;43m.\u001b[39;49m\u001b[43msbattery\u001b[49m\u001b[43m(\u001b[49m\u001b[43mpercent\u001b[49m\u001b[43m,\u001b[49m\u001b[43m \u001b[49m\u001b[43msecsleft\u001b[49m\u001b[43m,\u001b[49m\u001b[43m \u001b[49m\u001b[43mpower_plugged\u001b[49m\u001b[43m)\u001b[49m\n",
      "\u001b[1;31mKeyboardInterrupt\u001b[0m: "
     ]
    }
   ],
   "source": [
    "#user i/p variable\n",
    "frequency = eval(input(\"how often would you like to be notified: \"))\n",
    "battery = psutil.sensors_battery()\n",
    "percent = battery.percent\n",
    "\n",
    "#while loop to calculate the change between the said frequency of battery for notification\n",
    "while(True):\n",
    "    battery = psutil.sensors_battery()\n",
    "    curr_percent = battery.percent\n",
    "    change = curr_percent - percent\n",
    "    diff = abs(change)\n",
    "    \n",
    "    if(diff>=frequency):\n",
    "        notification.notify(\n",
    "            title=\"Current battery\",\n",
    "            message = str(curr_percent) + \"%battery remaining\",\n",
    "            timeout = 5#allocating time for loop to run\n",
    "            )\n",
    "        percent=curr_percent\n",
    "    continue\n",
    "        \n",
    "       "
   ]
  },
  {
   "cell_type": "code",
   "execution_count": null,
   "id": "bbbd1453-36d6-479f-b79c-af00a96e64ef",
   "metadata": {},
   "outputs": [],
   "source": []
  }
 ],
 "metadata": {
  "kernelspec": {
   "display_name": "Python 3 (ipykernel)",
   "language": "python",
   "name": "python3"
  },
  "language_info": {
   "codemirror_mode": {
    "name": "ipython",
    "version": 3
   },
   "file_extension": ".py",
   "mimetype": "text/x-python",
   "name": "python",
   "nbconvert_exporter": "python",
   "pygments_lexer": "ipython3",
   "version": "3.10.9"
  }
 },
 "nbformat": 4,
 "nbformat_minor": 5
}
