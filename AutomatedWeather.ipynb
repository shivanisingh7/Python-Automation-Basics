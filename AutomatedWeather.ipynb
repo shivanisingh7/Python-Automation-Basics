{
 "cells": [
  {
   "cell_type": "code",
   "execution_count": 1,
   "id": "e2dec4e0-e328-4492-9357-455130c5dae7",
   "metadata": {},
   "outputs": [],
   "source": [
    "#make a HTTP request to a web page using python\n",
    "import requests"
   ]
  },
  {
   "cell_type": "code",
   "execution_count": 2,
   "id": "fb28b574-c291-4ee1-b444-86bf09c66d50",
   "metadata": {},
   "outputs": [],
   "source": [
    "#import datetime to convert unix time to datetime format\n",
    "import datetime"
   ]
  },
  {
   "cell_type": "code",
   "execution_count": 3,
   "id": "c78befb1-50be-487e-a1ac-85af188ebc3d",
   "metadata": {},
   "outputs": [],
   "source": [
    "#enter the api key from the open weather website\n",
    "APIKey = 'c6cda76bc282fb7d642bafbb8a4be70a'"
   ]
  },
  {
   "cell_type": "code",
   "execution_count": 9,
   "id": "e15fea44-0d3a-4987-8abf-186dea004fdd",
   "metadata": {},
   "outputs": [],
   "source": [
    "#store the base url\n",
    "BaseURL = 'http://api.openweathermap.org/data/2.5/weather'"
   ]
  },
  {
   "cell_type": "code",
   "execution_count": 13,
   "id": "48612f97-d5f3-4cef-8d02-9dc7260d7f7c",
   "metadata": {},
   "outputs": [
    {
     "name": "stdout",
     "output_type": "stream",
     "text": [
      "Welcome to Weather tracker! which city would you like to view\n"
     ]
    },
    {
     "name": "stdin",
     "output_type": "stream",
     "text": [
      "Enter a City name:  new york\n"
     ]
    },
    {
     "name": "stdout",
     "output_type": "stream",
     "text": [
      "weather summary:  light rain\n",
      "The temperature is 5.34 celcius\n",
      "the sunrise time is 2024-01-24 07:13:06\n",
      "the sunset time is 2024-01-24 17:02:34\n"
     ]
    }
   ],
   "source": [
    "#f strings help in concatenating variables together and overall better formatting of our python code\n",
    "#store and print greetings\n",
    "Greeting = 'Welcome to Weather tracker! which city would you like to view'\n",
    "print(Greeting)\n",
    "City = input('Enter a City name: ')\n",
    "RequestURL = f'{BaseURL}?appid={APIKey}&q={City}'\n",
    "Response = requests.get(RequestURL)\n",
    "\n",
    "#if repose is 'ok' hen get the whole JSON weather data as a pythin dictionary\n",
    "if Response.status_code == 200:\n",
    "    Data = Response.json()\n",
    "    weather = Data['weather'][0]['description']\n",
    "    temperature = round(Data['main']['temp'] - 273.15,2)\n",
    "    sunrise = datetime.datetime.utcfromtimestamp(Data['sys']['sunrise']+Data['timezone'])\n",
    "    sunset = datetime.datetime.utcfromtimestamp(Data['sys']['sunset']+Data['timezone'])\n",
    "    \n",
    "    print(\"weather summary: \",weather)\n",
    "    print(\"The temperature is\",temperature,'celcius')\n",
    "    print(\"the sunrise time is\",sunrise)\n",
    "    print(\"the sunset time is\",sunset)\n",
    "else:\n",
    "    print(\"Hmm.....that is not right\")\n",
    "\n",
    "    "
   ]
  },
  {
   "cell_type": "code",
   "execution_count": null,
   "id": "92bb0161-6b1f-408c-b819-7d9f08fab811",
   "metadata": {},
   "outputs": [],
   "source": []
  }
 ],
 "metadata": {
  "kernelspec": {
   "display_name": "Python 3 (ipykernel)",
   "language": "python",
   "name": "python3"
  },
  "language_info": {
   "codemirror_mode": {
    "name": "ipython",
    "version": 3
   },
   "file_extension": ".py",
   "mimetype": "text/x-python",
   "name": "python",
   "nbconvert_exporter": "python",
   "pygments_lexer": "ipython3",
   "version": "3.10.9"
  }
 },
 "nbformat": 4,
 "nbformat_minor": 5
}
